{
 "cells": [
  {
   "cell_type": "code",
   "execution_count": 46,
   "metadata": {},
   "outputs": [],
   "source": [
    "import pandas as pd\n",
    "import seaborn as sns\n",
    "import numpy as np\n",
    "import matplotlib.pyplot as plt\n",
    "import time\n",
    "import random\n",
    "import glob\n",
    "import re, os\n",
    "import os.path\n",
    "%matplotlib inline"
   ]
  },
  {
   "cell_type": "code",
   "execution_count": 47,
   "metadata": {},
   "outputs": [],
   "source": [
    "#function -- it calculates the topN percent & will look at N poses or all poses for a given key whichever is smaller\n",
    "def topN(n, dic, thresh, redkeys=None,perpocket=False):\n",
    "    '''\n",
    "    This function returns the topN percentage by taking the top N poses\n",
    "    and calculating the frac that meet thresh.\n",
    "    Assumes dic is pocket-> key-> list of values.\n",
    "    \n",
    "    If redkeys (list of keys passed in) it will only use those keys\n",
    "    \n",
    "    If perpocket -- stats are calculated per-pocket and averaged\n",
    "                    instead of just using ALL data\n",
    "    '''\n",
    "    \n",
    "    has_stuff=[]\n",
    "    counter=0 #tracks total number of poses\n",
    "    \n",
    "    \n",
    "    if perpocket:\n",
    "        for key,data in dic.items():\n",
    "            kstuff=[]\n",
    "            kcount=0#tracks number of poses per key\n",
    "            \n",
    "            for key2, data2 in data.items():\n",
    "                \n",
    "                #if reducing, skip over not selected items\n",
    "                if redkeys and key2 not in redkeys:\n",
    "                    continue\n",
    "                counter+=1\n",
    "                kcount+=1\n",
    "                if n < len(data2):\n",
    "                    lookat=n\n",
    "                else:\n",
    "                    lookat=len(data2)\n",
    "                \n",
    "                for rmsd in data2[:lookat]:\n",
    "                    if rmsd < thresh:\n",
    "                        kstuff.append(True)\n",
    "                        break\n",
    "            has_stuff.append(np.sum(kstuff)/float(kcount))\n",
    "        #end for\n",
    "        #print(counter)\n",
    "        return np.mean(has_stuff)\n",
    "    else:\n",
    "        for key,data in dic.items():\n",
    "            for key2, data2 in data.items():\n",
    "\n",
    "                #if reducing, skip over not selected items\n",
    "                if redkeys and key2 not in redkeys:\n",
    "                    continue\n",
    "\n",
    "                counter+=1\n",
    "                if n<len(data2):\n",
    "                    lookat=n\n",
    "                else:\n",
    "                    lookat=len(data2)\n",
    "                for rmsd in data2[:lookat]:\n",
    "                    if rmsd < thresh:\n",
    "                        has_stuff.append(True)\n",
    "                        break\n",
    "        #print(counter)\n",
    "        return np.sum(has_stuff)/float(counter)"
   ]
  },
  {
   "cell_type": "code",
   "execution_count": 48,
   "metadata": {},
   "outputs": [],
   "source": [
    "def make_dict(filename,is_sweep=False,has_cnnscore=False,tag_prefix=None):\n",
    "    #filling a dictionary\n",
    "    # will be a dic of pocket:key:'rmsd'->[rmsds]  iff is_sweep=False\n",
    "    #                             'score'->[cnnscores]\n",
    "    #     else --  dic of tag:pocket:key:'rmsd'->[rmsds]\n",
    "    #                                    'score'->[cnnscores]\n",
    "    datadic={} #dic of pocket:key:[rmsds]\n",
    "        \n",
    "    with open(filename) as infile:\n",
    "        for i,line in enumerate(infile):\n",
    "            if i==0:\n",
    "                continue\n",
    "            items=line.rstrip().split(',')\n",
    "            \n",
    "            if has_cnnscore:\n",
    "                pocket=items[6]\n",
    "                key=items[7]+':'+items[8]\n",
    "            else:\n",
    "                pocket=items[3]\n",
    "                key=items[4]+':'+items[5]\n",
    "            \n",
    "            rmsd=float(items[2])\n",
    "            \n",
    "            if is_sweep:\n",
    "                if tag_prefix:\n",
    "                    check=items[0].split(tag_prefix)[-1]\n",
    "                else:\n",
    "                    check=items[0]\n",
    "                \n",
    "                if '_' in check:\n",
    "                    checkval=check.split('_')[0]\n",
    "                    if checkval=='' or checkval=='rescore':\n",
    "                        tag='0'\n",
    "                    else:\n",
    "                        tag=checkval\n",
    "                else:\n",
    "                    tag=float(items[0])\n",
    "                if tag not in datadic:\n",
    "                    datadic[tag]=dict()\n",
    "                \n",
    "                if pocket in datadic[tag] and key in datadic[tag][pocket]:\n",
    "                    datadic[tag][pocket][key].append(rmsd)\n",
    "                elif pocket in datadic[tag] and key not in datadic[tag][pocket]:\n",
    "                    datadic[tag][pocket][key]=[rmsd]\n",
    "                else:\n",
    "                    datadic[tag][pocket]={key:[rmsd]}\n",
    "            else:\n",
    "                #no need to stratify by tag\n",
    "                if pocket in datadic and key in datadic[pocket]:\n",
    "                    datadic[pocket][key].append(rmsd)\n",
    "                elif pocket in datadic and key not in datadic[pocket]:\n",
    "                    datadic[pocket][key]=[rmsd]\n",
    "                else:\n",
    "                    datadic[pocket]={key:[rmsd]}\n",
    "    return datadic"
   ]
  },
  {
   "cell_type": "code",
   "execution_count": 84,
   "metadata": {},
   "outputs": [],
   "source": [
    "def filter_csv(subset_file, remove_files=['/home/anm329/Docking/2017_general.INDEX','/home/anm329/Docking/Crossdock2020_Lig.txt','/home/anm329/Docking/Crossdock2020_Prot.txt'],new_suffix=\"no2017_noCD2020\"):                                                     \n",
    "    subset_csv = pd.read_csv(subset_file,sep=',')\n",
    "    \n",
    "    subset_csv['pdbid'] = subset_csv['rec'].apply(lambda x: x.split('/')[-1])  \n",
    "    for filename in remove_files:      \n",
    "        with open(filename) as remove_file:      \n",
    "            remove_recs = remove_file.readlines()      \n",
    "        remove_recs = [(rec.strip()).upper() for rec in remove_recs]          \n",
    "        subset_csv = subset_csv[~subset_csv['pdbid'].isin(remove_recs)]                      \n",
    "        subset_csv = subset_csv[~subset_csv['lig'].isin(remove_recs)]                                  \n",
    "    subset_csv.drop(['pdbid'],axis=1,inplace=True)\n",
    "    \n",
    "    subset_name = f\"{subset_file.split('.')[0]}_{new_suffix}.csv\"\n",
    "    subset_csv.to_csv(subset_name,sep=',',index=False)\n",
    "    \n",
    "    return subset_name"
   ]
  },
  {
   "cell_type": "code",
   "execution_count": 50,
   "metadata": {},
   "outputs": [
    {
     "name": "stdout",
     "output_type": "stream",
     "text": [
      "final_all_ensemble_rescore_defaults.csv\r\n",
      "final_all_ensemble_rescore_defaults_no2017.csv\r\n",
      "final_all_ensemble_rescore_defaults_no2017_nocd2020.csv\r\n",
      "final_all_ensemble_rescore_defaults_no2017_nocd2020_no2017_noCD2020.csv\r\n",
      "final_cd_def2018_ensemble_rescore_defaults.csv\r\n",
      "final_cd_def2018_ensemble_rescore_defaults_no2017.csv\r\n",
      "final_cd_def2018_ensemble_rescore_defaults_no2017_nocd2020.csv\r\n",
      "final_cd_def2018_ensemble_rescore_defaults_no2017_nocd2020_no2017_noCD2020.csv\r\n",
      "final_cd_def2018_rescore_defaults.csv\r\n",
      "final_cd_def2018_rescore_defaults_no2017.csv\r\n",
      "final_cd_def2018_rescore_defaults_no2017_nocd2020.csv\r\n",
      "final_cd_def2018_rescore_defaults_no2017_noCD2020.csv\r\n",
      "final_def2017_rescore_defaults.csv\r\n",
      "final_def2017_rescore_defaults_no2017.csv\r\n",
      "final_def2017_rescore_defaults_no2017_nocd2020.csv\r\n",
      "final_def2017_rescore_defaults_no2017_noCD2020.csv\r\n",
      "final_default_ensemble_cnn_emp_weight_sweep.csv\r\n",
      "final_default_ensemble_default_refinement.csv\r\n",
      "final_def_ensemble_aba_sweep.csv\r\n",
      "final_def_ensemble_cnn_emp_weight_sweep.csv\r\n",
      "final_def_ensemble_cnnrot_sweep.csv\r\n",
      "final_def_ensemble_exhaustiveness_sweep.csv\r\n",
      "final_def_ensemble_minRMSDfilter_sweep.csv\r\n",
      "final_def_ensemble_numMCsaved_sweep.csv\r\n",
      "final_def_ensemble_nummodes_sweep.csv\r\n",
      "final_def_ensemble_rescore_defaults.csv\r\n",
      "final_def_ensemble_rescore_defaults_no2017.csv\r\n",
      "final_def_ensemble_rescore_defaults_no2017_nocd2020.csv\r\n",
      "final_def_ensemble_rescore_defaults_no2017_noCD2020.csv\r\n",
      "final_def_ensemble_rescore_defaults_no2017_nocd2020_no2017_noCD2020.csv\r\n",
      "final_dense_ensemble_rescore_defaults.csv\r\n",
      "final_dense_ensemble_rescore_defaults_no2017.csv\r\n",
      "final_dense_ensemble_rescore_defaults_no2017_nocd2020.csv\r\n",
      "final_dense_ensemble_rescore_defaults_no2017_nocd2020_no2017_noCD2020.csv\r\n",
      "final_dense_rescore_defaults.csv\r\n",
      "final_dense_rescore_defaults_no2017.csv\r\n",
      "final_dense_rescore_defaults_no2017_nocd2020.csv\r\n",
      "final_dense_rescore_defaults_no2017_noCD2020.csv\r\n",
      "final_ensemble_wp_rescore_exhaustiveness_sweep.csv\r\n",
      "final_gen_def2018_ensemble_rescore_defaults.csv\r\n",
      "final_gen_def2018_ensemble_rescore_defaults_no2017.csv\r\n",
      "final_gen_def2018_ensemble_rescore_defaults_no2017_nocd2020.csv\r\n",
      "final_gen_def2018_ensemble_rescore_defaults_no2017_nocd2020_no2017_noCD2020.csv\r\n",
      "final_gen_def2018_rescore_defaults.csv\r\n",
      "final_gen_def2018_rescore_defaults_no2017.csv\r\n",
      "final_gen_def2018_rescore_defaults_no2017_nocd2020.csv\r\n",
      "final_gen_def2018_rescore_defaults_no2017_noCD2020.csv\r\n",
      "final_rd_def2018_ensemble_rescore_defaults.csv\r\n",
      "final_rd_def2018_ensemble_rescore_defaults_no2017.csv\r\n",
      "final_rd_def2018_ensemble_rescore_defaults_no2017_nocd2020.csv\r\n",
      "final_rd_def2018_ensemble_rescore_defaults_no2017_nocd2020_no2017_noCD2020.csv\r\n",
      "final_rd_def2018_rescore_defaults.csv\r\n",
      "final_rd_def2018_rescore_defaults_no2017.csv\r\n",
      "final_rd_def2018_rescore_defaults_no2017_nocd2020.csv\r\n",
      "final_rd_def2018_rescore_defaults_no2017_noCD2020.csv\r\n",
      "final_vina_exhaustiveness_sweep.csv\r\n",
      "final_vina_rescore_defaults.csv\r\n",
      "final_vina_rescore_defaults_no2017.csv\r\n",
      "final_vina_rescore_defaults_no2017_nocd2020.csv\r\n",
      "final_vina_rescore_defaults_no2017_noCD2020.csv\r\n",
      "final_vina_scoring_wp_exhaustiveness_sweep.csv\r\n",
      "\u001b[0m\u001b[01;34mold\u001b[0m/\r\n",
      "remove_bad_pairs.py\r\n"
     ]
    }
   ],
   "source": [
    "%ls /home/anm329/Docking/cnn_gnina/gnina_out/cd_results/"
   ]
  },
  {
   "cell_type": "code",
   "execution_count": 51,
   "metadata": {},
   "outputs": [],
   "source": [
    "basepath='/home/anm329/Docking/cnn_gnina/gnina_out/cd_results/'"
   ]
  },
  {
   "cell_type": "markdown",
   "metadata": {},
   "source": [
    "# Rescore vs Refine (with Vina)"
   ]
  },
  {
   "cell_type": "code",
   "execution_count": 52,
   "metadata": {},
   "outputs": [
    {
     "name": "stdout",
     "output_type": "stream",
     "text": [
      "[35.781060073442085, 42.63052064648246, 46.03357627127276, 48.21403002416913, 49.432561127624105, 50.19969809196505, 50.92088262632205, 51.45123552091182, 51.95717800136441]\n",
      "[25.63183048611532, 31.591785971397478, 35.477988073560915, 37.72633005674337, 39.66288725319867, 41.751609560469895, 43.35032691270833, 44.313173948833786, 45.01977875089139]\n",
      "[36.02247467337353, 42.700199322819294, 45.634749332586765, 47.848220874041196, 49.093727713788404, 49.85878041081866, 50.39838501291977, 50.86157228536371, 51.15182020247096]\n"
     ]
    }
   ],
   "source": [
    "files = [f'{basepath}final_default_ensemble_default_refinement.csv']\n",
    "files.append(f'{basepath}final_vina_rescore_defaults.csv')\n",
    "files.append(f'{basepath}final_def_ensemble_rescore_defaults.csv')\n",
    "final_dataframe = pd.DataFrame(index=list(range(1,10)))\n",
    "for file in files:\n",
    "    if 'vina' not in file:\n",
    "        has_cnnscore=True\n",
    "    else:\n",
    "        has_cnnscore=False\n",
    "    if 'sweep' in file:\n",
    "        is_sweep=True\n",
    "    else:\n",
    "        is_sweep=False\n",
    "    tmp=make_dict(file,has_cnnscore=has_cnnscore, is_sweep=is_sweep)\n",
    "    if is_sweep:\n",
    "        sorted_keys=sorted(tmp.keys())\n",
    "        print(sorted_keys)\n",
    "        for key in sorted_keys:\n",
    "            if 'cnnrot' in file and key != 0:\n",
    "                print('continuing')\n",
    "                continue\n",
    "#             if 'exhaustiveness' in file and key != 8:\n",
    "#                 print('continuing')\n",
    "#                 continue\n",
    "            xs=[]\n",
    "            for top in range(1,10):\n",
    "                val=topN(top,tmp[key],2,perpocket=True)\n",
    "                xs.append(val)\n",
    "            final_dataframe[key] = xs\n",
    "    else:\n",
    "        xs=[]\n",
    "        for top in range(1,10):\n",
    "                val=topN(top,tmp,2,perpocket=True)\n",
    "                xs.append(val*100)\n",
    "        final_dataframe[os.path.basename(file).split('.')[0]] = xs\n",
    "    print(xs)"
   ]
  },
  {
   "cell_type": "code",
   "execution_count": 53,
   "metadata": {},
   "outputs": [],
   "source": [
    "final_dataframe.columns = ['Default Ensemble Refine',\n",
    "                           'Vina',\n",
    "                             'Default Ensemble Rescore',]\n",
    "final_dataframe = final_dataframe.reindex(columns=['Vina','Default Ensemble Rescore','Default Ensemble Refine'])\n",
    "file_name = 'rescore_vs_refine'\n",
    "final_dataframe.to_csv(f'/home/anm329/GNINA-1.0/data/crossdocking/{file_name}.csv')"
   ]
  },
  {
   "cell_type": "code",
   "execution_count": 54,
   "metadata": {},
   "outputs": [],
   "source": [
    "final_vina = final_dataframe['Vina']\n",
    "final_defens = final_dataframe['Default Ensemble Rescore']\n",
    "final_defens_ref = final_dataframe['Default Ensemble Refine']"
   ]
  },
  {
   "cell_type": "markdown",
   "metadata": {},
   "source": [
    "# Single Model CSV"
   ]
  },
  {
   "cell_type": "code",
   "execution_count": 55,
   "metadata": {},
   "outputs": [
    {
     "name": "stdout",
     "output_type": "stream",
     "text": [
      "[31.093995510411844, 37.42333149858466, 41.48202545600984, 43.78036332148187, 45.417258960905826, 46.51165622066878, 47.50651756131129, 48.24038862635346, 48.94706625972389]\n",
      "[33.22745930991062, 40.59836106390178, 44.10253688750036, 46.739224303921574, 47.84401319902955, 49.01688315568712, 49.71334770854291, 50.30497020479374, 50.68007085195884]\n",
      "[29.024372393061988, 35.55968064809053, 38.63546883001202, 41.45720264959001, 42.89336835492398, 44.09579674067834, 45.00910964787025, 45.97966192548425, 46.778934965246414]\n",
      "[24.893677993470202, 32.371224121459406, 36.73921150656269, 40.30439173397049, 42.21744812761945, 43.91172617755797, 45.30707322802723, 46.85113767005728, 47.53653105379796]\n",
      "[31.426207888348845, 38.654185588909826, 42.096535122393945, 44.70363950554172, 46.67530763653588, 47.78570086075201, 48.59380709896523, 49.39638580639068, 49.882866682729556]\n"
     ]
    }
   ],
   "source": [
    "files = sorted(glob.glob(f'{basepath}final_*_def2018_rescore_defaults.csv'))\n",
    "files.append(f'{basepath}final_def2017_rescore_defaults.csv')\n",
    "files.append(f'{basepath}final_dense_rescore_defaults.csv')\n",
    "final_dataframe = pd.DataFrame(index=list(range(1,10)))\n",
    "for file in files:\n",
    "    if 'rescore' in file or 'refine' in file:\n",
    "        has_cnnscore=True\n",
    "    else:\n",
    "        has_cnnscore=False\n",
    "    if 'sweep' in file:\n",
    "        is_sweep=True\n",
    "    else:\n",
    "        is_sweep=False\n",
    "    tmp=make_dict(file,has_cnnscore=has_cnnscore, is_sweep=is_sweep)\n",
    "    if is_sweep:\n",
    "        sorted_keys=sorted(tmp.keys())\n",
    "        print(sorted_keys)\n",
    "        for key in sorted_keys:\n",
    "            if 'cnnrot' in file and key != 0:\n",
    "                print('continuing')\n",
    "                continue\n",
    "#             if 'exhaustiveness' in file and key != 8:\n",
    "#                 print('continuing')\n",
    "#                 continue\n",
    "            xs=[]\n",
    "            for top in range(1,10):\n",
    "                val=topN(top,tmp[key],2,perpocket=True)\n",
    "                xs.append(val)\n",
    "            final_dataframe[key] = xs\n",
    "    else:\n",
    "        xs=[]\n",
    "        for top in range(1,10):\n",
    "                val=topN(top,tmp,2,perpocket=True)\n",
    "                xs.append(val*100)\n",
    "        final_dataframe[os.path.basename(file).split('.')[0]] = xs\n",
    "    print(xs)"
   ]
  },
  {
   "cell_type": "code",
   "execution_count": 56,
   "metadata": {},
   "outputs": [
    {
     "data": {
      "text/plain": [
       "Index(['final_cd_def2018_rescore_defaults',\n",
       "       'final_gen_def2018_rescore_defaults',\n",
       "       'final_rd_def2018_rescore_defaults', 'final_def2017_rescore_defaults',\n",
       "       'final_dense_rescore_defaults'],\n",
       "      dtype='object')"
      ]
     },
     "execution_count": 56,
     "metadata": {},
     "output_type": "execute_result"
    }
   ],
   "source": [
    "final_dataframe.columns"
   ]
  },
  {
   "cell_type": "code",
   "execution_count": 57,
   "metadata": {},
   "outputs": [],
   "source": [
    "final_dataframe.columns = ['Crossdock Default2018',\n",
    "                             'General Default2018',\n",
    "                             'Redock Default2018',\n",
    "                             'Default2017',\n",
    "                             'Crossdock Dense']\n",
    "final_dataframe['Vina'] = final_vina\n",
    "final_dataframe['Default Ensemble'] = final_defens\n",
    "final_dataframe = final_dataframe.reindex(columns=['Default Ensemble','Crossdock Default2018','Crossdock Dense','General Default2018','Redock Default2018','Default2017','Vina'])"
   ]
  },
  {
   "cell_type": "code",
   "execution_count": 58,
   "metadata": {},
   "outputs": [],
   "source": [
    "file_name = 'rescore_single_models'\n",
    "final_dataframe.to_csv(f'/home/anm329/GNINA-1.0/data/crossdocking/{file_name}.csv')"
   ]
  },
  {
   "cell_type": "markdown",
   "metadata": {},
   "source": [
    "### No PDBbind2017 and NoCD2020"
   ]
  },
  {
   "cell_type": "code",
   "execution_count": 77,
   "metadata": {},
   "outputs": [
    {
     "name": "stdout",
     "output_type": "stream",
     "text": [
      "['/home/anm329/Docking/cnn_gnina/gnina_out/cd_results/final_cd_def2018_rescore_defaults_no2017_noCD2020.csv', '/home/anm329/Docking/cnn_gnina/gnina_out/cd_results/final_gen_def2018_rescore_defaults_no2017_noCD2020.csv', '/home/anm329/Docking/cnn_gnina/gnina_out/cd_results/final_rd_def2018_rescore_defaults_no2017_noCD2020.csv', '/home/anm329/Docking/cnn_gnina/gnina_out/cd_results/final_def2017_rescore_defaults_no2017_noCD2020.csv', '/home/anm329/Docking/cnn_gnina/gnina_out/cd_results/final_dense_rescore_defaults_no2017_noCD2020.csv', '/home/anm329/Docking/cnn_gnina/gnina_out/cd_results/final_def_ensemble_rescore_defaults_no2017_noCD2020.csv', '/home/anm329/Docking/cnn_gnina/gnina_out/cd_results/final_vina_rescore_defaults_no2017_noCD2020.csv']\n",
      "[33.989114060542626, 37.604387675816255, 40.532174175031315, 41.3016428016428, 42.433510933510924, 42.433510933510924, 42.75493950493951, 46.423437673437675, 46.69816294816295]\n",
      "[34.62671455528598, 40.46386153529011, 42.96553842982414, 45.31169227597799, 45.58641755070326, 46.27872524301096, 46.457296671582384, 46.73202194630766, 47.00674722103294]\n",
      "[29.82358118072404, 36.42256949399806, 37.910510124795834, 40.11380682809254, 40.11380682809254, 40.851902066187776, 41.447140161425885, 41.760065331493905, 42.08474065616923]\n",
      "[22.97588126159555, 33.53767264481551, 36.30339105339106, 39.73117755260613, 40.72018854161712, 40.86304568447426, 41.90200672343529, 44.819589141017715, 44.819589141017715]\n",
      "[30.952987488701773, 34.41412952127238, 36.15603840603841, 42.736886129743276, 44.84402898688612, 45.443429586286726, 45.718154861012, 46.456250099107244, 47.326213469070616]\n",
      "[38.575694147122725, 40.5106956535528, 41.833955726812874, 45.20483484769199, 45.970140970140974, 47.07558314701173, 47.218440289868866, 47.493165564594136, 47.81784088926946]\n",
      "[18.675736961451253, 24.85827664399093, 29.16934652648938, 32.32502418216704, 34.35825285825286, 38.76456083598941, 41.374450945879516, 42.088736660165225, 42.23159380302238]\n"
     ]
    }
   ],
   "source": [
    "files = sorted(glob.glob(f'{basepath}final_*_def2018_rescore_defaults.csv'))\n",
    "files.append(f'{basepath}final_def2017_rescore_defaults.csv')\n",
    "files.append(f'{basepath}final_dense_rescore_defaults.csv')\n",
    "files.append(f'{basepath}final_def_ensemble_rescore_defaults.csv')\n",
    "files.append(f'{basepath}final_vina_rescore_defaults.csv')\n",
    "files  = [filter_csv(f) for f in files]\n",
    "print(files)\n",
    "final_dataframe = pd.DataFrame(index=list(range(1,10)))\n",
    "for file in files:\n",
    "    if 'vina' not in file:\n",
    "        has_cnnscore=True\n",
    "    else:\n",
    "        has_cnnscore=False\n",
    "    if 'sweep' in file:\n",
    "        is_sweep=True\n",
    "    else:\n",
    "        is_sweep=False\n",
    "    tmp=make_dict(file,has_cnnscore=has_cnnscore, is_sweep=is_sweep)\n",
    "    if is_sweep:\n",
    "        sorted_keys=sorted(tmp.keys())\n",
    "        print(sorted_keys)\n",
    "        for key in sorted_keys:\n",
    "            if 'cnnrot' in file and key != 0:\n",
    "                print('continuing')\n",
    "                continue\n",
    "#             if 'exhaustiveness' in file and key != 8:\n",
    "#                 print('continuing')\n",
    "#                 continue\n",
    "            xs=[]\n",
    "            for top in range(1,10):\n",
    "                val=topN(top,tmp[key],2,perpocket=True)\n",
    "                xs.append(val)\n",
    "            final_dataframe[key] = xs\n",
    "    else:\n",
    "        xs=[]\n",
    "        for top in range(1,10):\n",
    "                val=topN(top,tmp,2,perpocket=True)\n",
    "                xs.append(val*100)\n",
    "        final_dataframe[os.path.basename(file).split('.')[0]] = xs\n",
    "    print(xs)"
   ]
  },
  {
   "cell_type": "code",
   "execution_count": 78,
   "metadata": {},
   "outputs": [],
   "source": [
    "final_dataframe.columns = ['Crossdock Default2018',\n",
    "                             'General Default2018',\n",
    "                             'Redock Default2018',\n",
    "                             'Default2017',\n",
    "                             'Crossdock Dense',\n",
    "                             'Default Ensemble',\n",
    "                          'Vina']\n",
    "final_dataframe = final_dataframe.reindex(columns=['Default Ensemble','Crossdock Default2018','Crossdock Dense','General Default2018','Redock Default2018','Default2017','Vina'])"
   ]
  },
  {
   "cell_type": "code",
   "execution_count": 79,
   "metadata": {},
   "outputs": [],
   "source": [
    "file_name = 'single_models_no2017_nocd2020.csv'\n",
    "final_dataframe.to_csv(f'/home/anm329/GNINA-1.0/data/crossdocking/{file_name}.csv')"
   ]
  },
  {
   "cell_type": "code",
   "execution_count": 80,
   "metadata": {},
   "outputs": [],
   "source": [
    "final_vina_no17_nocd2020 = final_dataframe['Vina']\n",
    "final_defens_no17_nocd2020 = final_dataframe['Default Ensemble']"
   ]
  },
  {
   "cell_type": "markdown",
   "metadata": {},
   "source": [
    "# Ensemble CSV"
   ]
  },
  {
   "cell_type": "code",
   "execution_count": 63,
   "metadata": {},
   "outputs": [
    {
     "name": "stdout",
     "output_type": "stream",
     "text": [
      "/home/anm329/Docking/cnn_gnina/gnina_out/cd_results/final_all_ensemble_rescore_defaults.csv\n",
      "[35.97165260709284, 42.57032626529192, 45.586153502198925, 48.03838364902211, 49.08707549392741, 49.72912016034093, 50.29863596190845, 50.81632006602314, 51.19169631631172]\n",
      "/home/anm329/Docking/cnn_gnina/gnina_out/cd_results/final_gen_def2018_ensemble_rescore_defaults.csv\n",
      "[34.102441349798966, 41.086560605303326, 44.51518528500551, 46.89071531345455, 48.1397907616121, 49.20033341276991, 49.82363815053041, 50.37776872742696, 50.732779021208295]\n",
      "/home/anm329/Docking/cnn_gnina/gnina_out/cd_results/final_rd_def2018_ensemble_rescore_defaults.csv\n",
      "[29.80437967234296, 35.93237830658064, 39.52782489788632, 42.112579592800046, 43.673748992007944, 44.787027738351206, 45.74351084621555, 46.53282068706818, 47.22371832370216]\n",
      "/home/anm329/Docking/cnn_gnina/gnina_out/cd_results/final_def_ensemble_rescore_defaults.csv\n",
      "/home/anm329/Docking/cnn_gnina/gnina_out/cd_results/final_cd_def2018_ensemble_rescore_defaults.csv\n",
      "[32.13889795086762, 38.64673686757307, 41.88090014120493, 44.49532877799081, 45.91479828814087, 47.00074989858656, 47.88557439712403, 48.72144148076838, 49.27456937593694]\n",
      "/home/anm329/Docking/cnn_gnina/gnina_out/cd_results/final_dense_ensemble_rescore_defaults.csv\n",
      "[33.10593295667298, 40.50597064569944, 44.211080820108855, 46.49130450533182, 48.55458009675685, 49.3071072972807, 50.00809129555608, 50.72196424277406, 51.20574214263816]\n"
     ]
    }
   ],
   "source": [
    "files = glob.glob('/home/anm329/Docking/cnn_gnina/gnina_out/cd_results/*.csv')\n",
    "final_dataframe = pd.DataFrame(index=list(range(1,10)))\n",
    "for fname in [f for f in files if '_ensemble_' in f and 'sweep' not in f and 'refine' not in f and 'no2017' not in f and 'nocd2020' not in f]:\n",
    "    print(fname)\n",
    "    if '_gen_' in fname:\n",
    "        col='General Default2018 Ensemble'\n",
    "    elif '_cd_def2018' in fname:\n",
    "        col='Crossdock Default2018 Ensemble'\n",
    "    elif '_rd_def2018' in fname:\n",
    "        col='Redock Default2018 Ensemble'\n",
    "    elif '_dense_' in fname:\n",
    "        col='Crossdock Dense Ensemble'\n",
    "    elif 'def_' in fname:\n",
    "        continue\n",
    "    elif 'default_' in fname:\n",
    "        continue ## Already calculated above\n",
    "    elif 'all' in fname:\n",
    "        col='All Ensemble'\n",
    "        \n",
    "    if 'rescore' in fname:\n",
    "        has_cnnscore=True\n",
    "    else:\n",
    "        has_cnnscore=False\n",
    "        \n",
    "    if 'sweep' in fname:\n",
    "        is_sweep=True\n",
    "    else:\n",
    "        is_sweep=False\n",
    "    tmp=make_dict(fname,has_cnnscore=has_cnnscore, is_sweep=is_sweep)\n",
    "    if is_sweep:\n",
    "        sorted_keys=sorted(tmp.keys())\n",
    "        print(sorted_keys)\n",
    "        for key in sorted_keys:\n",
    "            if key == '100':\n",
    "                continue\n",
    "            xs=[]\n",
    "            for top in range(1,10):\n",
    "                val=topN(top,tmp[key],2,perpocket=True)\n",
    "                xs.append(val)\n",
    "            final_dataframe[col] = xs\n",
    "    else:\n",
    "        xs=[]\n",
    "        for top in range(1,10):\n",
    "                val=topN(top,tmp,2,perpocket=True)\n",
    "                xs.append(val*100)\n",
    "        final_dataframe[col] = xs\n",
    "    print(xs)"
   ]
  },
  {
   "cell_type": "code",
   "execution_count": 64,
   "metadata": {},
   "outputs": [
    {
     "data": {
      "text/plain": [
       "Index(['All Ensemble', 'General Default2018 Ensemble',\n",
       "       'Redock Default2018 Ensemble', 'Crossdock Default2018 Ensemble',\n",
       "       'Crossdock Dense Ensemble'],\n",
       "      dtype='object')"
      ]
     },
     "execution_count": 64,
     "metadata": {},
     "output_type": "execute_result"
    }
   ],
   "source": [
    "final_dataframe.columns"
   ]
  },
  {
   "cell_type": "code",
   "execution_count": 65,
   "metadata": {},
   "outputs": [],
   "source": [
    "final_dataframe['Vina'] = final_vina\n",
    "final_dataframe['Default Ensemble'] = final_defens\n",
    "final_dataframe = final_dataframe.reindex(columns=['Default Ensemble','Crossdock Default2018 Ensemble','Crossdock Dense Ensemble','General Default2018 Ensemble','Redock Default2018 Ensemble','All Ensemble','Vina'])\n",
    "file_name = 'rescore_ensembles'\n",
    "final_dataframe.to_csv(f'/home/anm329/GNINA-1.0/data/crossdocking/{file_name}.csv')"
   ]
  },
  {
   "cell_type": "markdown",
   "metadata": {},
   "source": [
    "## Top1 PerPocket"
   ]
  },
  {
   "cell_type": "code",
   "execution_count": 66,
   "metadata": {},
   "outputs": [
    {
     "name": "stdout",
     "output_type": "stream",
     "text": [
      "/home/anm329/Docking/cnn_gnina/gnina_out/cd_results/final_all_ensemble_rescore_defaults.csv\n",
      "/home/anm329/Docking/cnn_gnina/gnina_out/cd_results/final_gen_def2018_ensemble_rescore_defaults.csv\n",
      "/home/anm329/Docking/cnn_gnina/gnina_out/cd_results/final_rd_def2018_ensemble_rescore_defaults.csv\n",
      "/home/anm329/Docking/cnn_gnina/gnina_out/cd_results/final_def_ensemble_rescore_defaults.csv\n",
      "/home/anm329/Docking/cnn_gnina/gnina_out/cd_results/final_cd_def2018_ensemble_rescore_defaults.csv\n",
      "/home/anm329/Docking/cnn_gnina/gnina_out/cd_results/final_vina_rescore_defaults.csv\n",
      "/home/anm329/Docking/cnn_gnina/gnina_out/cd_results/final_dense_ensemble_rescore_defaults.csv\n",
      "/home/anm329/Docking/cnn_gnina/gnina_out/cd_results/final_vina_rescore_defaults.csv\n",
      "/home/anm329/Docking/cnn_gnina/gnina_out/cd_results/final_def_ensemble_rescore_defaults.csv\n"
     ]
    }
   ],
   "source": [
    "files = glob.glob('/home/anm329/Docking/cnn_gnina/gnina_out/cd_results/*.csv')\n",
    "files.append(f'{basepath}final_vina_rescore_defaults.csv')\n",
    "files.append(f'{basepath}final_def_ensemble_rescore_defaults.csv')\n",
    "final_dataframe = pd.DataFrame(index=list(range(0,92)))\n",
    "pockets = dict()\n",
    "for idx, fname in enumerate([f for f in files if ('_ensemble_' in f or 'vina' in f ) and 'sweep' not in f and 'refine' not in f and 'no2017' not in f and 'nocd2020' not in f]):\n",
    "    print(fname)\n",
    "    if '_gen_' in fname:\n",
    "        col='General Default2018 Ensemble'\n",
    "    elif '_cd_def2018' in fname:\n",
    "        col='Crossdock Default2018 Ensemble'\n",
    "    elif '_rd_def2018' in fname:\n",
    "        col='Redock Default2018 Ensemble'\n",
    "    elif '_dense_' in fname:\n",
    "        col='Crossdock Dense Ensemble'\n",
    "    elif 'def_' in fname:\n",
    "        col = 'Default Ensemble'\n",
    "    elif 'vina' in fname:\n",
    "        col = 'Vina'\n",
    "    elif 'all' in fname:\n",
    "        col='All Ensemble'\n",
    "        \n",
    "    if 'vina' in fname:\n",
    "        has_cnnscore=False\n",
    "    else:\n",
    "        has_cnnscore=True\n",
    "    is_sweep=False\n",
    "    tmp=make_dict(fname,has_cnnscore=has_cnnscore, is_sweep=is_sweep)\n",
    "    xs=[]\n",
    "    for pock_num, pock in enumerate(tmp.keys()):\n",
    "        if idx == 1:\n",
    "            pockets[pock_num] = pock.split('/')[0]\n",
    "        pocket_only = {pock: tmp[pock]} \n",
    "        val=topN(1,pocket_only,2,perpocket=False)\n",
    "        xs.append(val*100)\n",
    "    final_dataframe[col] = xs\n",
    "final_dataframe.rename(index=pockets,inplace=True)\n",
    "final_dataframe = final_dataframe.reindex(columns=['Default Ensemble','Crossdock Default2018 Ensemble','Crossdock Dense Ensemble','General Default2018 Ensemble','Redock Default2018 Ensemble','All Ensemble','Vina'])\n",
    "file_name = 'top1_per_pocket'\n",
    "final_dataframe.to_csv(f'/home/anm329/GNINA-1.0/data/crossdocking/{file_name}.csv')"
   ]
  },
  {
   "cell_type": "markdown",
   "metadata": {},
   "source": [
    "### No PDBbind2017 and No CD2020"
   ]
  },
  {
   "cell_type": "code",
   "execution_count": 81,
   "metadata": {},
   "outputs": [
    {
     "name": "stdout",
     "output_type": "stream",
     "text": [
      "/home/anm329/Docking/cnn_gnina/gnina_out/cd_results/final_all_ensemble_rescore_defaults_no2017_noCD2020.csv\n",
      "[37.74081474081474, 40.820219463076604, 42.27351616637331, 45.48176030318888, 46.3059361273647, 46.48450755593613, 47.22260279403137, 48.09256616399474, 48.687804259232834]\n",
      "/home/anm329/Docking/cnn_gnina/gnina_out/cd_results/final_gen_def2018_ensemble_rescore_defaults_no2017_noCD2020.csv\n",
      "[35.661513090084526, 40.38222888222888, 42.918704311561456, 45.396726289583434, 46.95546516975089, 46.95546516975089, 47.230190444476165, 48.224434295862864, 48.224434295862864]\n",
      "/home/anm329/Docking/cnn_gnina/gnina_out/cd_results/final_rd_def2018_ensemble_rescore_defaults_no2017_noCD2020.csv\n",
      "[32.16450216450217, 35.84156716299574, 37.73193869622441, 39.80336726765298, 40.24816056958914, 40.843398664827234, 41.1648272362558, 41.1648272362558, 41.1648272362558]\n",
      "/home/anm329/Docking/cnn_gnina/gnina_out/cd_results/final_def_ensemble_rescore_defaults_no2017_noCD2020.csv\n",
      "/home/anm329/Docking/cnn_gnina/gnina_out/cd_results/final_cd_def2018_ensemble_rescore_defaults_no2017_noCD2020.csv\n",
      "[31.929808286951143, 37.63918621061478, 38.680133358704786, 42.432595182595186, 42.757270507270505, 42.90012765012765, 43.17485292485293, 43.31771006771007, 43.460567210567206]\n",
      "/home/anm329/Docking/cnn_gnina/gnina_out/cd_results/final_dense_ensemble_rescore_defaults_no2017_noCD2020.csv\n",
      "[35.811870669013516, 42.21569303712162, 43.69293008578723, 44.13772338772339, 47.11482961482961, 47.11482961482961, 47.899758971187545, 48.637854209282786, 48.637854209282786]\n"
     ]
    }
   ],
   "source": [
    "files = glob.glob('/home/anm329/Docking/cnn_gnina/gnina_out/cd_results/*.csv')\n",
    "final_dataframe = pd.DataFrame(index=list(range(1,10)))\n",
    "for fname in [f for f in files if '_ensemble_' in f and 'sweep' not in f and 'refine' not in f and 'no2017' not in f and 'nocd2020' not in f]:\n",
    "    fname  = filter_csv(fname)\n",
    "    print(fname)\n",
    "    if '_gen_' in fname:\n",
    "        col='General Default2018 Ensemble'\n",
    "    elif '_cd_def2018' in fname:\n",
    "        col='Crossdock Default2018 Ensemble'\n",
    "    elif '_rd_def2018' in fname:\n",
    "        col='Redock Default2018 Ensemble'\n",
    "    elif '_dense_' in fname:\n",
    "        col='Crossdock Dense Ensemble'\n",
    "    elif 'def_' in fname:\n",
    "        continue\n",
    "    elif 'all' in fname:\n",
    "        col='All Ensemble'\n",
    "        \n",
    "    if 'rescore' in fname:\n",
    "        has_cnnscore=True\n",
    "    else:\n",
    "        has_cnnscore=False\n",
    "        \n",
    "    if 'sweep' in fname:\n",
    "        is_sweep=True\n",
    "    else:\n",
    "        is_sweep=False\n",
    "    tmp=make_dict(fname,has_cnnscore=has_cnnscore, is_sweep=is_sweep)\n",
    "    if is_sweep:\n",
    "        sorted_keys=sorted(tmp.keys())\n",
    "        print(sorted_keys)\n",
    "        for key in sorted_keys:\n",
    "            if key == '100':\n",
    "                continue\n",
    "            xs=[]\n",
    "            for top in range(1,10):\n",
    "                val=topN(top,tmp[key],2,perpocket=True)\n",
    "                xs.append(val)\n",
    "            final_dataframe[col] = xs\n",
    "    else:\n",
    "        xs=[]\n",
    "        for top in range(1,10):\n",
    "                val=topN(top,tmp,2,perpocket=True)\n",
    "                xs.append(val*100)\n",
    "        final_dataframe[col] = xs\n",
    "    print(xs)"
   ]
  },
  {
   "cell_type": "code",
   "execution_count": 82,
   "metadata": {},
   "outputs": [
    {
     "data": {
      "text/plain": [
       "Index(['All Ensemble', 'General Default2018 Ensemble',\n",
       "       'Redock Default2018 Ensemble', 'Crossdock Default2018 Ensemble',\n",
       "       'Crossdock Dense Ensemble'],\n",
       "      dtype='object')"
      ]
     },
     "execution_count": 82,
     "metadata": {},
     "output_type": "execute_result"
    }
   ],
   "source": [
    "final_dataframe.columns"
   ]
  },
  {
   "cell_type": "code",
   "execution_count": 83,
   "metadata": {},
   "outputs": [],
   "source": [
    "final_dataframe['Vina'] = final_vina_no17_nocd2020\n",
    "final_dataframe['Default Ensemble'] = final_defens_no17_nocd2020\n",
    "final_dataframe = final_dataframe.reindex(columns=['Default Ensemble','Crossdock Default2018 Ensemble','Crossdock Dense Ensemble','General Default2018 Ensemble','Redock Default2018 Ensemble','All Ensemble','Vina'])\n",
    "file_name = 'ensemble_models_no2017_nocd2020'\n",
    "final_dataframe.to_csv(f'/home/anm329/GNINA-1.0/data/crossdocking/{file_name}.csv')"
   ]
  },
  {
   "cell_type": "markdown",
   "metadata": {},
   "source": [
    "# Doing all of the Sweeps\n",
    "Not whole protein"
   ]
  },
  {
   "cell_type": "code",
   "execution_count": 70,
   "metadata": {},
   "outputs": [
    {
     "name": "stdout",
     "output_type": "stream",
     "text": [
      "/home/anm329/Docking/cnn_gnina/gnina_out/cd_results/final_def_ensemble_cnn_emp_weight_sweep.csv refine_sweep_cnn_empirical_weight ['DefE_No Empirical Weight', 'DefE_0.01', 'DefE_0.1', 'DefE_1', 'DefE_10']\n",
      "\n",
      "/home/anm329/Docking/cnn_gnina/gnina_out/cd_results/final_def_ensemble_cnnrot_sweep.csv sweep_cnnrot ['DefE_0', 'DefE_1', 'DefE_5', 'DefE_10', 'DefE_20']\n",
      "\n",
      "/home/anm329/Docking/cnn_gnina/gnina_out/cd_results/final_def_ensemble_nummodes_sweep.csv sweep_num_modes ['DefE_9', 'DefE_100']\n",
      "\n",
      "/home/anm329/Docking/cnn_gnina/gnina_out/cd_results/final_def_ensemble_aba_sweep.csv sweep_autobox_add ['DefE_2', 'DefE_4', 'DefE_6', 'DefE_8']\n",
      "\n",
      "/home/anm329/Docking/cnn_gnina/gnina_out/cd_results/final_def_ensemble_minRMSDfilter_sweep.csv sweep_rmsdf ['DefE_0.5', 'DefE_1.0', 'DefE_1.5']\n",
      "\n",
      "/home/anm329/Docking/cnn_gnina/gnina_out/cd_results/final_def_ensemble_numMCsaved_sweep.csv sweep_mcsaved ['DefE_Default', 'DefE_20', 'DefE_40', 'DefE_60', 'DefE_80', 'DefE_100']\n",
      "\n"
     ]
    }
   ],
   "source": [
    "todo=glob.glob('/home/anm329/Docking/cnn_gnina/gnina_out/cd_results/final_def_ensemble*sweep.csv')\n",
    "# print(todo)\n",
    "for filename in [file for file in todo if 'sweep' in file and '_wp_' not in file]:\n",
    "    final_dataframe = pd.DataFrame(index=list(range(1,10)))\n",
    "    prefix='sweep_'\n",
    "    if 'nummodes' in filename:\n",
    "        prefix+='num_modes'\n",
    "        formats=['.0f','.0f']\n",
    "    elif 'minRMSDfilter' in filename:\n",
    "        prefix+='rmsdf_'\n",
    "        formats=['.1f','.1f','.1f']\n",
    "    elif '_aba_' in filename:\n",
    "        prefix+='autobox_add'\n",
    "        formats=['.0f','.0f','.0f','.0f']\n",
    "    elif '_numMCsaved_' in filename:\n",
    "        prefix+='mcsaved'\n",
    "        final_dataframe['DefE_Default'] = final_defens\n",
    "        formats=['.0f','.0f','.0f','.0f','.0f']\n",
    "    elif 'exhaustiveness' in filename:\n",
    "        continue ## doing this one separately\n",
    "        prefix+='exhaustiveness'\n",
    "        formats=['.0f','.0f','.0f','.0f','.0f']\n",
    "    elif '_cnnrot_' in filename:\n",
    "        prefix+='cnnrot'\n",
    "        formats=['.0f','.0f','.0f','.0f','.0f']\n",
    "    elif '_cnn_ew_' in filename or 'cnn_emp_weight' in filename:\n",
    "        if 'rescore' in filename:\n",
    "            continue\n",
    "        else:\n",
    "            prefix = 'refine_sweep_'\n",
    "            final_dataframe['DefE_No Empirical Weight'] = final_defens_ref\n",
    "            formats=['.2f','.1f','.0f','.0f']\n",
    "        prefix+='cnn_empirical_weight'\n",
    "\n",
    "    tmp=make_dict(filename,is_sweep=True,has_cnnscore=True)\n",
    "    sorted_keys=sorted(tmp.keys())\n",
    "    for key,form in zip(sorted_keys,formats):\n",
    "        xs=[]\n",
    "        for top in range(1,10):\n",
    "            val=topN(top,tmp[key],2,perpocket=True)\n",
    "            xs.append(val*100)\n",
    "        final_dataframe[f'DefE_{key:{form}}'] = xs\n",
    "        \n",
    "    print(filename,prefix.strip('_'),final_dataframe.columns.tolist())\n",
    "    print('')\n",
    "    final_dataframe.to_csv(f\"/home/anm329/GNINA-1.0/data/crossdocking/{prefix.strip('_')}.csv\")"
   ]
  },
  {
   "cell_type": "code",
   "execution_count": 71,
   "metadata": {},
   "outputs": [
    {
     "name": "stdout",
     "output_type": "stream",
     "text": [
      "['/home/anm329/Docking/cnn_gnina/gnina_out/cd_results/final_vina_scoring_wp_exhaustiveness_sweep.csv', '/home/anm329/Docking/cnn_gnina/gnina_out/cd_results/final_def_ensemble_exhaustiveness_sweep.csv', '/home/anm329/Docking/cnn_gnina/gnina_out/cd_results/final_vina_exhaustiveness_sweep.csv', '/home/anm329/Docking/cnn_gnina/gnina_out/cd_results/final_ensemble_wp_rescore_exhaustiveness_sweep.csv']\n",
      "['DefE_4', 'DefE_8', 'DefE_16', 'Vina_4', 'Vina_8', 'Vina_16']\n",
      "\n"
     ]
    }
   ],
   "source": [
    "todo=glob.glob('/home/anm329/Docking/cnn_gnina/gnina_out/cd_results/*exhaustiveness*sweep.csv')\n",
    "print(todo)\n",
    "final_dataframe = pd.DataFrame(index=list(range(1,10)))\n",
    "for filename in [file for file in todo if 'sweep' in file and '_wp_' not in file]:\n",
    "    prefix='sweep_'\n",
    "    if 'exhaustiveness' in filename:\n",
    "        prefix+='exhaustiveness'\n",
    "        formats=['.0f','.0f','.0f','.0f','.0f']\n",
    "    if 'def_ensemble' in filename:\n",
    "        colpre = 'DefE'\n",
    "        has_cnnsc = True\n",
    "    elif 'vina' in filename:\n",
    "        colpre = 'Vina'\n",
    "        has_cnnsc = False\n",
    "    tmp=make_dict(filename,is_sweep=True,has_cnnscore=has_cnnsc)\n",
    "    sorted_keys=sorted(tmp.keys())\n",
    "    for key,form in zip(sorted_keys,formats):\n",
    "        xs=[]\n",
    "        for top in range(1,10):\n",
    "            val=topN(top,tmp[key],2,perpocket=True)\n",
    "            xs.append(val*100)\n",
    "        final_dataframe[f'{colpre}_{key:{form}}'] = xs\n",
    "        \n",
    "print(final_dataframe.columns.tolist())\n",
    "print('')\n",
    "final_dataframe.to_csv(f\"/home/anm329/GNINA-1.0/data/crossdocking/{prefix.strip('_')}.csv\")"
   ]
  },
  {
   "cell_type": "markdown",
   "metadata": {},
   "source": [
    "## Threshold CNNscore"
   ]
  },
  {
   "cell_type": "code",
   "execution_count": 85,
   "metadata": {},
   "outputs": [
    {
     "name": "stdout",
     "output_type": "stream",
     "text": [
      "/home/anm329/Docking/cnn_gnina/gnina_out/cd_results/final_all_ensemble_rescore_defaults.csv:All Ensemble\n",
      "/home/anm329/Docking/cnn_gnina/gnina_out/cd_results/final_gen_def2018_ensemble_rescore_defaults.csv:General Default2018 Ensemble\n",
      "/home/anm329/Docking/cnn_gnina/gnina_out/cd_results/final_rd_def2018_ensemble_rescore_defaults.csv:Redock Default2018 Ensemble\n",
      "/home/anm329/Docking/cnn_gnina/gnina_out/cd_results/final_def_ensemble_rescore_defaults.csv:Default Ensemble\n",
      "/home/anm329/Docking/cnn_gnina/gnina_out/cd_results/final_cd_def2018_ensemble_rescore_defaults.csv:Crossdock Default2018 Ensemble\n",
      "/home/anm329/Docking/cnn_gnina/gnina_out/cd_results/final_dense_ensemble_rescore_defaults.csv:Crossdock Dense Ensemble\n"
     ]
    }
   ],
   "source": [
    "files = glob.glob(f'{basepath}final_*ensemble_rescore_defaults.csv')\n",
    "final_dataframe = pd.DataFrame(index=list(np.linspace(0,1,100)))\n",
    "for file in files:\n",
    "    if '_gen_' in file:\n",
    "        col='General Default2018 Ensemble'\n",
    "    elif '_cd_def2018' in file:\n",
    "        col='Crossdock Default2018 Ensemble'\n",
    "    elif '_rd_def2018' in file:\n",
    "        col='Redock Default2018 Ensemble'\n",
    "    elif '_dense_' in file:\n",
    "        col='Crossdock Dense Ensemble'\n",
    "    elif '_all_' in file:\n",
    "        col='All Ensemble'\n",
    "    elif 'def_ensemble' in file:\n",
    "        col='Default Ensemble'\n",
    "        keep_mult = True\n",
    "    else:\n",
    "        col='Vina'\n",
    "        keep_mult = True\n",
    "    if 'rescore' in file:\n",
    "        has_cnnscore=True\n",
    "    else:\n",
    "        has_cnnscore=False\n",
    "    if 'sweep' in file:\n",
    "        is_sweep=True\n",
    "    else:\n",
    "        is_sweep=False\n",
    "    remaining_sys = []\n",
    "    base = pd.read_csv(file)\n",
    "    if is_sweep:\n",
    "#         sorted_keys=sorted(tmp.keys())\n",
    "#         print(sorted_keys)\n",
    "#         for key in sorted_keys:\n",
    "#             if key == '100':\n",
    "#                 continue\n",
    "        print(f'sweep:{file}')\n",
    "        break\n",
    "        xs=[]\n",
    "        for x in range(0,100):\n",
    "            check=x/100.\n",
    "            new=base[base['cnnscore']>check]\n",
    "            remaining_sys.append(len(new))\n",
    "            outname=f\"{file.split('.')[0]}_{check}.csv\"\n",
    "            new.to_csv(outname,index=False)\n",
    "            tmp=make_dict(outname,is_sweep=is_sweep, has_cnnscore=has_cnnscore)\n",
    "            val=topN(1,tmp['9'],2,perpocket=True)\n",
    "            xs.append(val)\n",
    "        final_dataframe[f\"{col} Good\"] = xs\n",
    "        final_dataframe[f\"{col} Left\"] = remaining_sys\n",
    "    else:\n",
    "        print(f'{file}:{col}')\n",
    "        xs=[]\n",
    "        base_amount=0\n",
    "        for check in np.linspace(0,1,100):\n",
    "            new=base[base['cnnscore']>check]\n",
    "            if check==0:\n",
    "                base_amount=len(new)\n",
    "            remaining_sys.append((len(new)/base_amount)*100)\n",
    "            if len(new):\n",
    "                outname=f\"{file.split('.')[0]}_{check}.csv\"\n",
    "                new.to_csv(outname,index=False)\n",
    "                tmp=make_dict(outname,is_sweep=is_sweep, has_cnnscore=has_cnnscore)\n",
    "                val=topN(1,tmp,2,perpocket=True)\n",
    "                xs.append(val*100)\n",
    "                os.remove(outname)\n",
    "            else:\n",
    "                xs.append('')\n",
    "        final_dataframe[f\"{col} Good\"] = xs\n",
    "        final_dataframe[f\"{col} Left\"] = remaining_sys"
   ]
  },
  {
   "cell_type": "code",
   "execution_count": 86,
   "metadata": {},
   "outputs": [],
   "source": [
    "final_dataframe1 = final_dataframe.reindex(['Default Ensemble Good','Default Ensemble Left','Crossdock Default2018 Ensemble Good','Crossdock Default2018 Ensemble Left','Crossdock Dense Ensemble Good','Crossdock Dense Ensemble Left','General Default2018 Ensemble Good','General Default2018 Ensemble Left','Redock Default2018 Ensemble Good','Redock Default2018 Ensemble Left','All Ensemble Good','All Ensemble Left'],axis=1)\n",
    "final_dataframe1.to_csv('/home/anm329/GNINA-1.0/data/crossdocking/thresh_cnnscore_ensembles.csv',sep=',')"
   ]
  },
  {
   "cell_type": "markdown",
   "metadata": {},
   "source": [
    "## Top1 PerPocket For Thresholds"
   ]
  },
  {
   "cell_type": "code",
   "execution_count": 75,
   "metadata": {},
   "outputs": [],
   "source": [
    "files = glob.glob(f'{basepath}final_*ensemble_rescore_defaults.csv')\n",
    "final_dataframe = pd.DataFrame(index=list(range(0,92)))\n",
    "for file in files:\n",
    "    if 'def_ensemble' in file:\n",
    "        col='Default Ensemble'\n",
    "        keep_mult = True\n",
    "    else:\n",
    "        continue\n",
    "    is_sweep = False\n",
    "    has_cnnscore = True\n",
    "    remaining_sys = []\n",
    "    base = pd.read_csv(file)\n",
    "    for check in [0,0.5,0.8]:\n",
    "        xs=[]\n",
    "        new=base[base['cnnscore']>check]\n",
    "        outname=f\"{file.split('.')[0]}_{check}.csv\"\n",
    "        new.to_csv(outname,index=False)\n",
    "        tmp=make_dict(outname,is_sweep=is_sweep, has_cnnscore=has_cnnscore)\n",
    "        for pock in pockets.values():\n",
    "            if f'{pock}/PDB_Structures/' in tmp.keys():\n",
    "                pocket = {f'{pock}/PDB_Structures/': tmp[f'{pock}/PDB_Structures/']}\n",
    "                val=topN(1,pocket,2,perpocket=True)\n",
    "                xs.append(val*100)\n",
    "            else:\n",
    "                xs.append('--')\n",
    "        final_dataframe[f\"{check}\"] = xs\n",
    "        os.remove(outname)\n",
    "final_dataframe.rename(index=pockets,inplace=True)\n",
    "file_name = 'thresh_top1_per_pocket'\n",
    "final_dataframe.to_csv(f'/home/anm329/GNINA-1.0/data/crossdocking/{file_name}.csv')"
   ]
  },
  {
   "cell_type": "markdown",
   "metadata": {},
   "source": [
    "# Whole protein\n",
    "This is only one CSV with Vina and Default Ensemble with 8,16,32,64 exhaustiveness "
   ]
  },
  {
   "cell_type": "code",
   "execution_count": 24,
   "metadata": {},
   "outputs": [
    {
     "name": "stdout",
     "output_type": "stream",
     "text": [
      "/home/anm329/Docking/cnn_gnina/gnina_out/cd_results/final_vina_scoring_wp_exhaustiveness_sweep_filtered.csv\n",
      "[8.0, 16.0, 32.0, 64.0]\n",
      "/home/anm329/Docking/cnn_gnina/gnina_out/cd_results/final_ensemble_wp_rescore_exhaustiveness_sweep_filtered.csv\n",
      "[4.0, 8.0, 16.0, 32.0, 64.0]\n"
     ]
    }
   ],
   "source": [
    "files = glob.glob('/home/anm329/Docking/cnn_gnina/gnina_out/cd_results/*wp*exhaustiveness*filtered.csv')\n",
    "final_dataframe = pd.DataFrame(index=list(range(1,10)))\n",
    "for fname in files:\n",
    "    print(fname)\n",
    "    if 'vina' in fname:\n",
    "        col='Vina'\n",
    "    else:\n",
    "        col='DefE'\n",
    "    if 'rescore' in fname:\n",
    "        has_cnnscore=True\n",
    "    else:\n",
    "        has_cnnscore=False\n",
    "    if 'sweep' in fname:\n",
    "        is_sweep=True\n",
    "    else:\n",
    "        print(f'{fname} is not a sweep')\n",
    "        break\n",
    "    tmp=make_dict(fname,has_cnnscore=has_cnnscore, is_sweep=is_sweep)\n",
    "    sorted_keys=sorted(tmp.keys())\n",
    "    print(sorted_keys)\n",
    "    for key in sorted_keys:\n",
    "        if key == 4.0:\n",
    "            continue\n",
    "        xs=[]\n",
    "        for top in range(1,10):\n",
    "            val=topN(top,tmp[key],2,perpocket=True)\n",
    "            xs.append(val*100)\n",
    "        final_dataframe[f'{col}_{key:.0f}'] = xs"
   ]
  },
  {
   "cell_type": "code",
   "execution_count": 25,
   "metadata": {},
   "outputs": [],
   "source": [
    "final_dataframe = final_dataframe.reindex(columns=['DefE_8', 'DefE_16',\n",
    "       'DefE_32', 'DefE_64','Vina_8', 'Vina_16', 'Vina_32', 'Vina_64'])\n",
    "file_name = 'whole_ptn_sweep_exhaustiveness'\n",
    "final_dataframe.to_csv(f'/home/anm329/GNINA-1.0/data/crossdocking/{file_name}.csv')"
   ]
  },
  {
   "cell_type": "markdown",
   "metadata": {},
   "source": [
    "## Whole Protein Top1 PerPocket"
   ]
  },
  {
   "cell_type": "code",
   "execution_count": 91,
   "metadata": {},
   "outputs": [
    {
     "name": "stdout",
     "output_type": "stream",
     "text": [
      "/home/anm329/Docking/cnn_gnina/gnina_out/cd_results/final_vina_scoring_wp_exhaustiveness_sweep.csv\n",
      "[8.0, 16.0, 32.0, 64.0]\n",
      "/home/anm329/Docking/cnn_gnina/gnina_out/cd_results/final_ensemble_wp_rescore_exhaustiveness_sweep.csv\n",
      "[4.0, 8.0, 16.0, 32.0, 64.0]\n"
     ]
    }
   ],
   "source": [
    "files = glob.glob('/home/anm329/Docking/cnn_gnina/gnina_out/cd_results/*wp*exhaustiveness*.csv')\n",
    "final_dataframe = pd.DataFrame(index=list(range(0,94)))\n",
    "pockets = dict()\n",
    "for idx,fname in enumerate(files):\n",
    "    print(fname)\n",
    "    if 'vina' in fname:\n",
    "        col='Vina'\n",
    "    else:\n",
    "        col='Default Ensemble'\n",
    "    if 'rescore' in fname:\n",
    "        has_cnnscore=True\n",
    "    else:\n",
    "        has_cnnscore=False\n",
    "    if 'sweep' in fname:\n",
    "        is_sweep=True\n",
    "    else:\n",
    "        print(f'{fname} is not a sweep')\n",
    "        break\n",
    "    tmp=make_dict(fname,has_cnnscore=has_cnnscore, is_sweep=is_sweep)\n",
    "    sorted_keys=sorted(tmp.keys())\n",
    "    print(sorted_keys)\n",
    "    for key in sorted_keys:\n",
    "        if key != 8.0:\n",
    "            continue\n",
    "        xs=[]\n",
    "        for pock_num, pock in enumerate(tmp[key].keys()):\n",
    "            if key == 8.0 and idx == 1:\n",
    "                pockets[pock_num] = pock.split('/')[0]\n",
    "            pocket_only = {pock: tmp[key][pock]} \n",
    "            val=topN(top,pocket_only,2,perpocket=True)\n",
    "            xs.append(val*100)\n",
    "        final_dataframe[f'{col}'] = xs\n",
    "final_dataframe.rename(index=pockets,inplace=True)\n",
    "file_name = 'whole_ptn_top1_per_pocket'\n",
    "final_dataframe.to_csv(f'/home/anm329/GNINA-1.0/data/crossdocking/{file_name}.csv')"
   ]
  },
  {
   "cell_type": "code",
   "execution_count": null,
   "metadata": {},
   "outputs": [],
   "source": []
  }
 ],
 "metadata": {
  "kernelspec": {
   "display_name": "Python 3",
   "language": "python",
   "name": "python3"
  },
  "language_info": {
   "codemirror_mode": {
    "name": "ipython",
    "version": 3
   },
   "file_extension": ".py",
   "mimetype": "text/x-python",
   "name": "python",
   "nbconvert_exporter": "python",
   "pygments_lexer": "ipython3",
   "version": "3.7.6"
  }
 },
 "nbformat": 4,
 "nbformat_minor": 2
}
